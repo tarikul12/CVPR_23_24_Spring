{
 "cells": [
  {
   "cell_type": "code",
   "execution_count": 5,
   "id": "e810b840-87cb-4c68-a7bf-ce0d9318edbf",
   "metadata": {},
   "outputs": [
    {
     "name": "stdout",
     "output_type": "stream",
     "text": [
      "[1, 4, 9, 16, 25, 36, 49, 64, 81, 100]\n",
      "Sum of all list Value 385\n"
     ]
    }
   ],
   "source": [
    "#list operation\n",
    "arr1 = [1,2,3,4,5,6,7,8,9,10]\n",
    "sq = [a**2 for a in arr1]\n",
    "print(sq)\n",
    "sum_sq=sum(sq)\n",
    "print(\"Sum of all list Value\",sum_sq)"
   ]
  },
  {
   "cell_type": "code",
   "execution_count": 16,
   "id": "84b1430a-c21a-400f-8c21-ebd6907cde85",
   "metadata": {},
   "outputs": [
    {
     "name": "stdout",
     "output_type": "stream",
     "text": [
      "Product of all elements in the tuple: 3840\n"
     ]
    }
   ],
   "source": [
    "#tuple operation\n",
    "#  using list comprehension\n",
    "even_numbers = [x for x in range(2, 12, 2)]\n",
    "\n",
    "# Convert the list of even numbers into a tuple\n",
    "even_tuple = tuple(even_numbers)\n",
    "\n",
    "product = 1\n",
    "for num in even_tuple:\n",
    "    product *= num\n",
    "\n",
    "\n",
    "print(\"Product of all elements in the tuple:\", product)\n",
    "\n"
   ]
  },
  {
   "cell_type": "code",
   "execution_count": 6,
   "id": "729e7f7c-aab2-483d-9d34-577b2012b51c",
   "metadata": {},
   "outputs": [
    {
     "name": "stdout",
     "output_type": "stream",
     "text": [
      "Union the sets value : {1, 3, 5, 7, 9}\n",
      "Intersection the sets value: {1, 3, 5, 7, 9}\n"
     ]
    }
   ],
   "source": [
    "#set operation\n",
    "\n",
    "set1 = {x for x in range(1, 11) if x % 2 != 0}\n",
    "set2 = {x for x in range(1, 11, 2)}\n",
    "\n",
    "union = set1.union(set2)\n",
    "print(\"Union the sets value :\", union)\n",
    "\n",
    "intersection = set1.intersection(set2)\n",
    "print(\"Intersection the sets value:\", intersection)\n"
   ]
  },
  {
   "cell_type": "code",
   "execution_count": 7,
   "id": "fe3df727-36dd-4d18-b9b1-723f954f3f12",
   "metadata": {},
   "outputs": [
    {
     "name": "stdout",
     "output_type": "stream",
     "text": [
      "Dictionary with lowercase alphabets and their ASCII values:\n",
      "{'a': 97, 'b': 98, 'c': 99, 'd': 100, 'e': 101}\n"
     ]
    }
   ],
   "source": [
    "#dictionary operation\n",
    "\n",
    "ascii_dict = {chr(i): i for i in range(ord('a'), ord('e') + 1)}\n",
    "\n",
    "print(\"Dictionary with lowercase alphabets and their ASCII values:\")\n",
    "print(ascii_dict)\n",
    "\n"
   ]
  },
  {
   "cell_type": "code",
   "execution_count": 15,
   "id": "a5228b1d-b8f7-4842-a7ca-3d59b1caeb2f",
   "metadata": {},
   "outputs": [
    {
     "name": "stdout",
     "output_type": "stream",
     "text": [
      "Original list: [1, 2, 3, 4, 5, 6, 7, 8, 9, 10]\n",
      "Squared list: [1, 4, 9, 16, 25, 36, 49, 64, 81, 100]\n"
     ]
    }
   ],
   "source": [
    "# function operation\n",
    "def square(x):\n",
    "    return x ** 2 \n",
    "    \n",
    "numbers = list(range(1, 11))\n",
    "squared_numbers = list(map(square, numbers))\n",
    "print(\"Original list:\", numbers)\n",
    "print(\"Squared list:\", squared_numbers)\n"
   ]
  },
  {
   "cell_type": "code",
   "execution_count": null,
   "id": "7f3a3bb8-f5fc-4418-a94b-3894b2f20aff",
   "metadata": {},
   "outputs": [],
   "source": []
  }
 ],
 "metadata": {
  "kernelspec": {
   "display_name": "Python 3 (ipykernel)",
   "language": "python",
   "name": "python3"
  },
  "language_info": {
   "codemirror_mode": {
    "name": "ipython",
    "version": 3
   },
   "file_extension": ".py",
   "mimetype": "text/x-python",
   "name": "python",
   "nbconvert_exporter": "python",
   "pygments_lexer": "ipython3",
   "version": "3.12.1"
  }
 },
 "nbformat": 4,
 "nbformat_minor": 5
}
